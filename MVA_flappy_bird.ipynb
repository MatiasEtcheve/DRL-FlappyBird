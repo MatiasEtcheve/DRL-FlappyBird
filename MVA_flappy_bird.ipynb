{
  "cells": [
    {
      "cell_type": "markdown",
      "metadata": {
        "id": "s0726DI1W8RJ"
      },
      "source": [
        "# Project part 2: beat flappy bird\n",
        "\n",
        "You may be familiar with the game [flappy bird](https://flappybird.io/). It is very simple: a bird moves at constant speed on the x axis and, to direct him, you can either push it up or let it fall at each step. The goal of the game is to go as far as possible.\n",
        "\n",
        "Your goal for this project is as follow: design and train an agent which does the best possible score at flappy bird !"
      ]
    },
    {
      "cell_type": "markdown",
      "metadata": {
        "id": "ztgSWy0fYvY5"
      },
      "source": [
        "## The environment\n",
        "\n",
        "We will use the Flappy Bird environment defined in the deep_rl package. Let's have a closer look at it.\n"
      ]
    },
    {
      "cell_type": "code",
      "execution_count": 13,
      "metadata": {},
      "outputs": [],
      "source": [
        "import copy\n",
        "import pickle\n",
        "import time\n",
        "from time import time\n",
        "from typing import List, Tuple\n",
        "\n",
        "import chex\n",
        "import haiku as hk\n",
        "import jax\n",
        "import jax.numpy as jnp\n",
        "import matplotlib.pyplot as plt\n",
        "import numpy as np\n",
        "import optax\n",
        "import pandas as pd\n",
        "from IPython.display import clear_output\n",
        "from tqdm import trange\n",
        "\n",
        "from deep_rl.environments.flappy_bird import FlappyBird\n",
        "from deep_rl.episode_runner import run_episode\n",
        "from deep_rl.terminal_renderer import BashRenderer\n",
        "from helper import (\n",
        "    compute_features_from_observation,\n",
        "    get_value_action,\n",
        "    plot_observation,\n",
        "    plot_value_action,\n",
        "    save_best_model,\n",
        ")\n",
        "\n",
        "# for reloading modules in notebook\n",
        "%load_ext autoreload\n",
        "%autoreload 2"
      ]
    },
    {
      "cell_type": "code",
      "execution_count": 2,
      "metadata": {
        "colab": {
          "base_uri": "https://localhost:8080/"
        },
        "id": "CMk5FLsimhhx",
        "outputId": "7f79f68d-f2bf-4a98-83a7-b8817c5c3627"
      },
      "outputs": [
        {
          "name": "stdout",
          "output_type": "stream",
          "text": [
            "\n",
            "    Welcome to our custom flappy bird game !\n",
            "\n",
            "    A bird moves at a constant horizontal speed while gravity governs the vertical axis.\n",
            "    The goal is to make the bird avoid obstacles on the screen for as long as possible.\n",
            "\n",
            "    At each step. two actions are available:\n",
            "        0: do nothing and let it fall.\n",
            "        1: push the bird upward\n",
            "\n",
            "    Observations have the following shape:\n",
            "        BIRD_COORDINATES, [BAR_0, BAR_1, ..., BAR_N]\n",
            "\n",
            "    Where:\n",
            "        BIRD_COORDINATES = (X_BIRD, Y_BIRD, V_Y_BIRD)\n",
            "        WIth:\n",
            "            - X_BIRD: the position of the bird on the x-axis\n",
            "            - Y_BIRD: the position of the bird on the y-axis\n",
            "            - V_Y_BIRD: the velocity of the bird along the y-axis\n",
            "\n",
            "        BAR_0, BAR_1, ... , BAR_N are the coordinates of the bars visibles in the \n",
            "        environment.\n",
            "\n",
            "        With BAR_i = (X_LEFT, X_RIGHT, HEIGHT, POSITION)\n",
            "        Where BAR_i is a rectangle with:\n",
            "            X_LEFT: is the position of the left border of the bar\n",
            "            X_RIGHT: is the position of the right border of the bar\n",
            "            HEIGHT: is the bar's height\n",
            "            POISTION: (bool) is True if the bar is on top of the screen and False\n",
            "                elsewhere.\n",
            "\n",
            "        All (non-boolean) coordinates are floating points in [0, 1].\n",
            "\n",
            "        For example, if we have the following observation:\n",
            "\n",
            "            (0.5, 0.7, 0.), ((0.3, 0.4, 0.2, True), (0.1, 0.2, 0.4, False))\n",
            "\n",
            "        The bird is at coordinates (0.5, 0.7) with a null velocity. There are\n",
            "        two bars on the screen. The first bar is 'on top' so: its bottom left corner \n",
            "        is at position (0.3, 1 - 0.2) = (0.3, 0.8) and its top right corer is at\n",
            "        (0.4, 1.). The second    is at the bottom, so: its bottom left corner\n",
            "        is at position (0.1, 0.) and its top right one it at (0.2, 0.4).\n",
            "\n",
            "        Note: the bars can be in any order.\n",
            "\n",
            "    Rewards:\n",
            "        the base reward at each step is 0\n",
            "        the agent gain one point each time the bird passes a bar successfully\n",
            "        the agent loses one point if the bird crashes (game over)\n",
            "\n",
            "    Minimal resolution recommended for rendering: 20 rows and 20 columns.\n",
            "\n",
            "    How to interact with the environment:\n",
            "        reset(): reset the environment\n",
            "        min_res: gives the minimal resolution (rows, cols) recomended for the environment\n",
            "        step(action : int): action must be 0 or 1. Update the environment with the given \n",
            "            action and returns next_obs, reward, done.\n",
            "            Where:\n",
            "                - obs is the next observation of the environment\n",
            "                - reward is the reward obtained\n",
            "                - done is wether or not the episode is over\n",
            "    \n"
          ]
        }
      ],
      "source": [
        "env = FlappyBird(\n",
        "    gravity=0.05,\n",
        "    force_push=0.1,\n",
        "    vx=0.05,\n",
        "    prob_new_bar=1,\n",
        "    invictus_mode=False,\n",
        "    max_height_bar=0.5,\n",
        ")\n",
        "\n",
        "print(env.help)\n"
      ]
    },
    {
      "cell_type": "markdown",
      "metadata": {
        "id": "KOFXHhUYmhVL"
      },
      "source": [
        "For example let's interact with it a little bit."
      ]
    },
    {
      "cell_type": "code",
      "execution_count": 3,
      "metadata": {
        "colab": {
          "base_uri": "https://localhost:8080/"
        },
        "id": "bUEklG8l726x",
        "outputId": "2129fbd0-f613-45d5-87bb-88202c0d5ce1"
      },
      "outputs": [
        {
          "name": "stdout",
          "output_type": "stream",
          "text": [
            "We should use at least 20 rows and 20 cols when rendering the environment\n",
            "First observation when reseting the environment:\n",
            "((0.5, 0.5, 0.0), [])\n",
            "\n",
            "Now, let's perform a few steps\n",
            "\n",
            "Step 1: we let the bird fall\n",
            "Observation: ((0.5, 0.45, -0.05), [(1.0, 1.1, 0.39310783277998373, False)])\n",
            "Reward: 0\n",
            "Game over: False\n",
            "\n",
            "Step 2: we push the bird up\n",
            "Observation: ((0.5, 0.45, 0.0), [(1.0, 1.1, 0.3024255072161014, True), (0.95, 1.05, 0.39310783277998373, False)])\n",
            "Reward: 0\n",
            "Game over: False\n",
            "\n",
            "Step 3: we push the bird up again\n",
            "Observation: ((0.5, 0.5, 0.05), [(0.95, 1.05, 0.3024255072161014, True), (0.8999999999999999, 0.9999999999999999, 0.39310783277998373, False)])\n",
            "Reward: 0\n",
            "Game over: False\n",
            "\n",
            "Step 4: we push the bird up again\n",
            "Observation: ((0.5, 0.6, 0.1), [(0.8499999999999999, 0.9499999999999998, 0.39310783277998373, False), (0.8999999999999999, 0.9999999999999999, 0.3024255072161014, True)])\n",
            "Reward: 0\n",
            "Game over: False\n",
            "\n"
          ]
        }
      ],
      "source": [
        "rows, cols = env.min_res\n",
        "print(\n",
        "    f\"We should use at least {rows} rows and {cols} cols when rendering the environment\"\n",
        ")\n",
        "\n",
        "obs_reset = env.reset()\n",
        "print(\"First observation when reseting the environment:\")\n",
        "print(obs_reset)\n",
        "print()\n",
        "\n",
        "print(\"Now, let's perform a few steps\\n\")\n",
        "\n",
        "print(\"Step 1: we let the bird fall\")\n",
        "obs, reward, done = env.step(0)\n",
        "print(f\"Observation: {obs}\")\n",
        "print(f\"Reward: {reward}\")\n",
        "print(f\"Game over: {done}\")\n",
        "print()\n",
        "\n",
        "print(\"Step 2: we push the bird up\")\n",
        "obs, reward, done = env.step(1)\n",
        "print(f\"Observation: {obs}\")\n",
        "print(f\"Reward: {reward}\")\n",
        "print(f\"Game over: {done}\")\n",
        "print()\n",
        "\n",
        "print(\"Step 3: we push the bird up again\")\n",
        "obs, reward, done = env.step(1)\n",
        "print(f\"Observation: {obs}\")\n",
        "print(f\"Reward: {reward}\")\n",
        "print(f\"Game over: {done}\")\n",
        "print()\n",
        "\n",
        "print(\"Step 4: we push the bird up again\")\n",
        "obs, reward, done = env.step(1)\n",
        "print(f\"Observation: {obs}\")\n",
        "print(f\"Reward: {reward}\")\n",
        "print(f\"Game over: {done}\")\n",
        "print()\n"
      ]
    },
    {
      "cell_type": "markdown",
      "metadata": {
        "id": "WOVy4waHAivf"
      },
      "source": [
        "To simplify typing a bit, the deep_rl package implements a new type `FlappyObs` which corresponds to a state of the flappy bird environment."
      ]
    },
    {
      "cell_type": "code",
      "execution_count": 9,
      "metadata": {
        "id": "kwQsyfBBAxiA"
      },
      "outputs": [],
      "source": [
        "BarObs = Tuple[float, float, float, bool]\n",
        "BirdObs = Tuple[float, float, float]\n",
        "FlappyObs = Tuple[BirdObs, List[BarObs]]\n"
      ]
    },
    {
      "cell_type": "markdown",
      "metadata": {
        "id": "UI7HQF1zhNcW"
      },
      "source": [
        "## Baseline\n",
        "\n",
        "We provide you with a simple baseline: the `StableAgent` which does nothing more than keeping the bird stable."
      ]
    },
    {
      "cell_type": "code",
      "execution_count": 10,
      "metadata": {
        "id": "-0xIH_5DB4f4"
      },
      "outputs": [],
      "source": [
        "class StableAgent:\n",
        "    \"\"\"An agent which just keeps the bird stable.\"\"\"\n",
        "\n",
        "    def __init__(self, target_y: float = 0.5):\n",
        "        self._target_y = target_y\n",
        "\n",
        "    def sample_action(\n",
        "        self,\n",
        "        observation: FlappyObs,\n",
        "        evaluation: bool,\n",
        "    ) -> int:\n",
        "        _, y_bird, v_y_bird = observation[0]\n",
        "\n",
        "        if y_bird <= self._target_y and v_y_bird <= 0:\n",
        "            return 1\n",
        "        else:\n",
        "            return 0\n"
      ]
    },
    {
      "cell_type": "markdown",
      "metadata": {
        "id": "YnX6ij-gCCIN"
      },
      "source": [
        "Let's see how a single runs works in practice with this agent."
      ]
    },
    {
      "cell_type": "code",
      "execution_count": 11,
      "metadata": {
        "colab": {
          "base_uri": "https://localhost:8080/"
        },
        "id": "Q7EHsNT6CG0e",
        "outputId": "cb4fe184-c2c6-4d28-9628-580347170e98"
      },
      "outputs": [
        {
          "name": "stdout",
          "output_type": "stream",
          "text": [
            "　　　　　　　　　　　　　　　　　　　　　　　　　　　　　　　　　　　　　　　　　　　　　　　　　　　　　　　　　　　　\n",
            "　　　　　　　　　　　　　　　　　　　　　　　　　　　　　　　　　　　　　　　　　　　　　　　　　　　　　　　　　　　　\n",
            "　　　　　　　　　　　　　　　　　　　　　　　　　　　　　　　　　　　　　　　　　　　　　　　　　　　　　　　　　　　　\n",
            "　　　　　　　　　　　　　　　　　　　　　　　　　　　　　　　　　　　　　　　　　　　　　　　　　　　　　　　　　　　　\n",
            "　　　　　　　　　　　　　　　　　　　　　　　　　　　　　　　　　　　　　　　　　　　　　　　　　　　　　　　　　　　　\n",
            "　　　　　　　　　　　　　　　　　　　　　　　　　　　　　　　　　　　　　　　　　　　　　　　　　　　　　　　　　　　　\n",
            "　　　　　　　　　　　　　　　　　　　　　　　　　　　　　　　　　　　　　　　　　　　　　　　　　　　　　　　　　　　　\n",
            "　　　　　　　　　　　　　　　　　　　　　　　　　　　　　　　　　　　　　　　　　　　　　　　　　　　　　　　　　　　　\n",
            "　　　　　　　　　　　　　　　　　　　　　　　　　　　　　　　　　　　　　　　　　　　　　　　　　　　　　　　　　　　　\n",
            "　　　　　　　　　　　　　　　　　　　　　　　　　　　　　　　　　　　　　　　　　　　　　　　　　　　　　　　　　　　　\n",
            "　　　　　　　　　　　　　　　　　　　　　　　　　　　　　　　　　　　　　　　　　　　　　　　　　　　　　　　　　　　　\n",
            "　　　　　　　　　　　　　　　　　　　　　　　　　　　　　　　　　　　　　　　　　　　　　　　　　　　　　　　　　　　　\n",
            "　　　　　　　　　　　　　　　　　　　　　　　　　　　　　　　　　　　　　　　　　　　　　　　　　　　　　　　　　　　　\n",
            "　　　　　　　　　　　　　　　　　　　　　　　　　　　　　　🐤　　　　　　　　　　　　　　　　　　　　　　　　　　　　　\n",
            "　　　　　　　　　　　　　　　　　　　　　　　　　　　　　　　　　　　　　　　　　　　　　　　　　　　　　　　　　　　　\n",
            "　　　　　　　　　　　　　　　　　　　　　　　　　　　　　　　　　　　　　　　　　　　　　　　　　　　　　　　　　　　　\n",
            "　　　　　　　　　　　　　　　　　　　　　　　　　　　　　　　　　　　　　　　　　　　　　　　　　　　　　　　　　　　　\n",
            "　　　　　　　　　　　　　　　　　　　　　　　　　　　　　　　　　　　　　　　　　　　　　　　　　　　　　　　　　　　　\n",
            "　　　　　　　　　　　　　　　　　　　　　　　　　　　　　　　　　　　　　　　　　　　　　　　　　　　　　　　　　　　　\n",
            "　　　　　　　　　　　　　　　　　　　　　　　　　　　　　　　　　　　　　　　　　　　　　　　　　　　　　　　　　　　　\n",
            "　　　　　　　　　　　　　　　　　　　　　　　　　　　　　　　　　　　　　　　　　　　　　　　　　　　　　　　　　　　　\n",
            "　　　　　　　　　　　　　　　　　　　　　　　　　　　　　　　　　　　　　　　　　　　　　　　　　　　　　　　　　　　　\n",
            "　　　　　　　　　　　　　　　　　　　　　　　　　　　　　　　　　　　　　　　　　　　　　　　　　　　　　　　　　　　　\n",
            "　　　　　　　　　　　　　　　　　　　　　　　　　　　　　　　　　　　　　　　　　　　　　　　　　　　　　　　　　　　　\n",
            "　　　　　　　　　　　　　　　　　　　　　　　　　　　　　　　　　　　　　　　　　　　　　　　　　　　　　　　　　　　　\n",
            "　　　　　　　　　　　　　　　　　　　　　　　　　　　　　　　　　　　　　　　　　　　　　　　　　　　　　　　　　　　　\n",
            "　　　　　　　　　　　　　　　　　　　　　　　　　　　　　　　　　　　　　　　　　　　　　　　　　　　　　　　　　　　　\n",
            "　　　　　　　　　　　　　　　　　　　　　　　　　　　　　　　　　　　　　　　　　　　　　　　　　　　　　　　　　　　　\n",
            "　　　　　　　　　　　　　　　　　　　　　　　　　　　　　　　　　　　　　　　　　　　　　　　　　　　　　　　　　　　　\n",
            "🟫🟫🟫🟫🟫🟫🟫🟫🟫🟫🟫🟫🟫🟫🟫🟫🟫🟫🟫🟫🟫🟫🟫🟫🟫🟫🟫🟫🟫🟫🟫🟫🟫🟫🟫🟫🟫🟫🟫🟫🟫🟫🟫🟫🟫🟫🟫🟫🟫🟫🟫🟫🟫🟫🟫🟫🟫🟫🟫🟫\n",
            "TOTAL REWARD : 0\n"
          ]
        },
        {
          "data": {
            "text/plain": [
              "0"
            ]
          },
          "execution_count": 11,
          "metadata": {},
          "output_type": "execute_result"
        }
      ],
      "source": [
        "# We are going to render the environment !\n",
        "ROWS = 30\n",
        "COLS = 60\n",
        "# Because ipython sucks, I have not found a cleaner option to add\n",
        "# the refresher function\n",
        "renderer = BashRenderer(ROWS, COLS, clear_fn=lambda: clear_output(wait=True))\n",
        "\n",
        "# Flappy bird environment\n",
        "env = FlappyBird(\n",
        "    gravity=0.05,\n",
        "    force_push=0.1,\n",
        "    vx=0.05,\n",
        "    prob_new_bar=0.3,\n",
        "    max_height_bar=0.6,\n",
        ")\n",
        "\n",
        "# Our agent\n",
        "agent = StableAgent()\n",
        "\n",
        "# We run a single episode, with rendering, over a maximum of 100 steps\n",
        "run_episode(env, agent, max_steps=2, renderer=renderer, time_between_frame=1)\n"
      ]
    },
    {
      "cell_type": "code",
      "execution_count": 14,
      "metadata": {},
      "outputs": [
        {
          "name": "stdout",
          "output_type": "stream",
          "text": [
            "We define a hard observation, that will be used to plot the value function during the training\n"
          ]
        },
        {
          "data": {
            "text/plain": [
              "(<Figure size 800x400 with 1 Axes>, <Axes: >)"
            ]
          },
          "execution_count": 14,
          "metadata": {},
          "output_type": "execute_result"
        },
        {
          "data": {
            "image/png": "[encoded data removed]",
            "text/plain": [
              "<Figure size 800x400 with 1 Axes>"
            ]
          },
          "metadata": {},
          "output_type": "display_data"
        }
      ],
      "source": [
        "observation = (\n",
        "    (0.5, 0.5, 0.0),\n",
        "    [\n",
        "        (0.1499999999999997, 0.2499999999999997, 0.4123647820706887, True),\n",
        "        (0.7999999999999998, 0.8999999999999998, 0.37547680672428224, False),\n",
        "        (0.5499999999999996, 0.6499999999999996, 0.2644069551051657, False),\n",
        "        (0.29999999999999966, 0.3999999999999997, 0.08111256304703442, False),\n",
        "        (0.7999999999999998, 0.8999999999999998, 0.4623647820706887, True),\n",
        "        (0.68, 0.78, 0.08111256304703442, True),\n",
        "    ],\n",
        ")\n",
        "\n",
        "print(\"We define a hard observation, that will be used to plot the value function during the training\")\n",
        "plot_observation(observation)\n"
      ]
    },
    {
      "cell_type": "code",
      "execution_count": 15,
      "metadata": {},
      "outputs": [],
      "source": [
        "@chex.dataclass\n",
        "class Transition:\n",
        "    state_t: chex.Array\n",
        "    action_t: chex.Array\n",
        "    reward_t: chex.Array\n",
        "    done_t: chex.Array\n",
        "    state_tp1: chex.Array\n",
        "\n",
        "\n",
        "class ReplayBuffer:\n",
        "    \"\"\"Fixed-size buffer to store transition tuples.\"\"\"\n",
        "\n",
        "    def __init__(self, buffer_capacity: int):\n",
        "        \"\"\"Initialize a ReplayBuffer object.\n",
        "        Args:\n",
        "            buffer_capacity (int): maximal number of tuples to store at once\n",
        "        \"\"\"\n",
        "        self._memory = list()\n",
        "        self._maxlen = buffer_capacity\n",
        "\n",
        "    @property\n",
        "    def size(self) -> int:\n",
        "        # Return the current number of elements in the buffer.\n",
        "        return len(self._memory)\n",
        "\n",
        "    def add(\n",
        "        self,\n",
        "        state_t: chex.Array,\n",
        "        action_t: chex.Array,\n",
        "        reward_t: chex.Array,\n",
        "        done_t: chex.Array,\n",
        "        state_tp1: chex.Array,\n",
        "    ) -> None:\n",
        "        \"\"\"Add a new transition to memory.\"\"\"\n",
        "\n",
        "        if self.size > self._maxlen:\n",
        "            self._memory = self._memory[1:]\n",
        "\n",
        "        self._memory.append(\n",
        "            Transition(\n",
        "                state_t=state_t,\n",
        "                action_t=action_t,\n",
        "                reward_t=reward_t,\n",
        "                done_t=done_t,\n",
        "                state_tp1=state_tp1,\n",
        "            )\n",
        "        )\n",
        "\n",
        "    def sample(self) -> Transition:\n",
        "        \"\"\"Randomly sample a transition from memory.\"\"\"\n",
        "        assert self._memory, \"replay buffer is unfilled\"\n",
        "        # Your code here !\n",
        "        index = np.random.randint(self.size)\n",
        "        return self._memory[index]\n",
        "\n",
        "\n",
        "class BatchedReplayBuffer(ReplayBuffer):\n",
        "    def sample_batch(self, batch_size) -> Transition:\n",
        "        \"\"\"Randomly sample a batch of experiences from memory.\"\"\"\n",
        "        assert (\n",
        "            len(self._memory) >= batch_size\n",
        "        ), \"Insuficient number of transitions in replay buffer\"\n",
        "        # Your code here !\n",
        "        samples = [self.sample() for i in range(batch_size)]\n",
        "        kwargs = dict()\n",
        "        for attr in [\"action_t\", \"reward_t\", \"done_t\"]:\n",
        "            kwargs[attr] = np.array([getattr(s, attr) for s in samples])\n",
        "        for attr in [\"state_t\", \"state_tp1\"]:\n",
        "            kwargs[attr] = np.array(\n",
        "                [compute_features_from_observation(getattr(s, attr)) for s in samples]\n",
        "            )\n",
        "        return Transition(**kwargs)\n"
      ]
    },
    {
      "cell_type": "code",
      "execution_count": 16,
      "metadata": {},
      "outputs": [],
      "source": [
        "def network(x: chex.Array, n_actions: int) -> chex.Array:\n",
        "    out = hk.nets.MLP([32, n_actions], activation=jax.nn.relu)(x)\n",
        "    return out\n"
      ]
    },
    {
      "cell_type": "code",
      "execution_count": 17,
      "metadata": {},
      "outputs": [],
      "source": [
        "# @title **[Implement]** Define your agent\n",
        "\n",
        "# A convenient way to pack together all the variables we need when updating\n",
        "# the agent.\n",
        "@chex.dataclass\n",
        "class LearnerState:\n",
        "    online_params: hk.Params\n",
        "    target_params: hk.Params\n",
        "    opt_state: optax.OptState\n",
        "\n",
        "\n",
        "class DeepAgent:\n",
        "    def __init__(\n",
        "        self,\n",
        "        env,\n",
        "        gamma: float,\n",
        "        eps: float,\n",
        "        learning_rate: float,\n",
        "        buffer_capacity: int,\n",
        "        min_buffer_capacity: int,\n",
        "        batch_size: int,\n",
        "        target_ema: float,\n",
        "        seed: int = 0,\n",
        "    ) -> None:\n",
        "        \"\"\"Initializes the DQN agent.\n",
        "\n",
        "        Args:\n",
        "          env: input catch environment.\n",
        "          gamma: discount factor\n",
        "          eps: probability to perform a random exploration when picking a new action.\n",
        "          learning_rate: learning rate of the online network\n",
        "          buffer_capacity: capacity of the replay buffer\n",
        "          min_buffer_capacity: min buffer size before picking batches from the\n",
        "            replay buffer to update the online network\n",
        "          batch_size: batch size when updating the online network\n",
        "          target_ema: weight when updating the target network.\n",
        "          seed: seed of the random generator.\n",
        "        \"\"\"\n",
        "        self._env = env\n",
        "        self._learning_rate = learning_rate\n",
        "        self._eps = eps\n",
        "        self._gamma = gamma\n",
        "        self._batch_size = batch_size\n",
        "        self._target_ema = target_ema\n",
        "        self._Na = env.N_ACTIONS\n",
        "\n",
        "        # track the visit of each state\n",
        "        # The keys are the hashed states, the values are the number of times we visited it.\n",
        "        self._visits = {}\n",
        "\n",
        "        # Define the neural network for this agent\n",
        "        self._init, self._apply = hk.without_apply_rng(hk.transform(self._hk_qfunction))\n",
        "        # Jit the forward pass of the neural network for better performances\n",
        "        self.apply = jax.jit(self._apply)\n",
        "\n",
        "        # Also jit the update functiom\n",
        "        self._update_fn = jax.jit(self._update_fn)\n",
        "\n",
        "        # Initialize the network's parameters\n",
        "        self._rng = jax.random.PRNGKey(seed)\n",
        "        self._rng, init_rng = jax.random.split(self._rng)\n",
        "        self._learner_state = self._init_state(init_rng)\n",
        "\n",
        "        # Initialize the replay buffer\n",
        "        self._min_buffer_capacity = min_buffer_capacity\n",
        "        self._buffer = BatchedReplayBuffer(buffer_capacity)\n",
        "\n",
        "        # Build a variable to store the last state observed by the agent\n",
        "        self._state = None\n",
        "\n",
        "    def _optimizer(self) -> optax.GradientTransformation:\n",
        "        return optax.adam(learning_rate=self._learning_rate)\n",
        "\n",
        "    def _hk_qfunction(self, state: chex.Array) -> chex.Array:\n",
        "        return network(state, self._Na)\n",
        "\n",
        "    def first_observe(self, state: chex.Array) -> None:\n",
        "        self._state = state\n",
        "\n",
        "    def _init_state(self, rng: chex.PRNGKey) -> LearnerState:\n",
        "        \"\"\"Initialize the online parameters, the target parameters and the\n",
        "        optimizer's state.\"\"\"\n",
        "        dummy_step = compute_features_from_observation(self._env.reset())[None]\n",
        "\n",
        "        online_params = self._init(rng, dummy_step)\n",
        "        target_params = online_params\n",
        "        opt_state = self._optimizer().init(online_params)\n",
        "\n",
        "        return LearnerState(\n",
        "            online_params=online_params,\n",
        "            target_params=target_params,\n",
        "            opt_state=opt_state,\n",
        "        )\n",
        "\n",
        "    def act(\n",
        "        self,\n",
        "        state: chex.Array,\n",
        "        evaluation: bool,\n",
        "    ) -> chex.Array:\n",
        "        \"\"\"Picks the next action using an epsilon greedy policy.\n",
        "\n",
        "        Args:\n",
        "          state: observed state.\n",
        "          eval: if True the agent is acting in evaluation mode (which means it only\n",
        "            acts according to the best policy it knows.)\n",
        "        \"\"\"\n",
        "        # Fill in this function to act using an epsilon-greedy policy.\n",
        "        if not evaluation and np.random.uniform() < self._eps:\n",
        "            return np.random.randint(self._Na)\n",
        "        return np.argmax(self._apply(self._learner_state.online_params, state[None]))\n",
        "\n",
        "    def loss_fn(\n",
        "        self,\n",
        "        online_params: hk.Params,\n",
        "        target_params: hk.Params,\n",
        "        state_t: chex.Array,\n",
        "        action_t: chex.Array,\n",
        "        reward_t: chex.Array,\n",
        "        done_t: chex.Array,\n",
        "        state_tp1: chex.Array,\n",
        "    ) -> chex.Array:\n",
        "        \"\"\"Computes the Q-learning loss\n",
        "\n",
        "        Args:\n",
        "          online_params: parameters of the online network\n",
        "          target_params: parameters of the target network\n",
        "          state_t: batch of observations at time t\n",
        "          action_t: batch of actions performed at time t\n",
        "          reward_t: batch of rewards obtained at time t\n",
        "          done_t: batch of end of episode status at time t\n",
        "          state_tp1: batch of states at time t+1\n",
        "        Returns:\n",
        "          The Q-learning loss.\n",
        "        \"\"\"\n",
        "        # Step one: compute the target Q-value for state t+1\n",
        "        q_tp1 = self._apply(target_params, state_tp1)\n",
        "\n",
        "        # We do not want to consider the Q-value of states that are done !\n",
        "        # For theses states, q(t+1) = 0\n",
        "        q_tp1 = (1.0 - done_t[..., None]) * q_tp1\n",
        "\n",
        "        # Now deduce the value of the target cumulative reward\n",
        "        y_t = reward_t + self._gamma * jnp.max(q_tp1, axis=1)  # Shape B\n",
        "\n",
        "        # Compute the online Q-value for state t\n",
        "        q_t = self._apply(online_params, state_t)  # Shape B , Na\n",
        "\n",
        "        # Ok, but we only want the Q value for the actions that have actually\n",
        "        # been played\n",
        "        q_at = jax.vmap(lambda idx, q: q[idx])(action_t, q_t)\n",
        "\n",
        "        # Compute the square error\n",
        "        error = (q_at - y_t) ** 2\n",
        "\n",
        "        # Deduce the loss\n",
        "        return jnp.mean(error)\n",
        "\n",
        "    def _update_fn(\n",
        "        self,\n",
        "        state: LearnerState,\n",
        "        batch: Transition,\n",
        "    ) -> Tuple[chex.Array, LearnerState]:\n",
        "        \"\"\"Get the next learner state given the current batch of transitions.\n",
        "\n",
        "        Args:\n",
        "          state: learner state before update.\n",
        "          batch: batch of experiences (st, at, rt, done_t, stp1)\n",
        "        Returns:\n",
        "          loss, learner state after update\n",
        "        \"\"\"\n",
        "\n",
        "        # Compute gradients\n",
        "        loss, gradients = jax.value_and_grad(self.loss_fn)(\n",
        "            state.online_params,\n",
        "            state.target_params,\n",
        "            batch.state_t,\n",
        "            batch.action_t,\n",
        "            batch.reward_t,\n",
        "            batch.done_t,\n",
        "            batch.state_tp1,\n",
        "        )\n",
        "\n",
        "        # Apply gradients\n",
        "        updates, new_opt_state = self._optimizer().update(gradients, state.opt_state)\n",
        "        new_online_params = optax.apply_updates(state.online_params, updates)\n",
        "\n",
        "        # Update target network params as:\n",
        "        # target_params <- ema * target_params + (1 - ema) * online_params\n",
        "        new_target_params = jax.tree_map(\n",
        "            lambda x, y: x + (1 - self._target_ema) * (y - x),\n",
        "            state.target_params,\n",
        "            new_online_params,\n",
        "        )\n",
        "        return loss, LearnerState(\n",
        "            online_params=new_online_params,\n",
        "            target_params=new_target_params,\n",
        "            opt_state=new_opt_state,\n",
        "        )\n",
        "\n",
        "    def observe(\n",
        "        self,\n",
        "        action_t: chex.Array,\n",
        "        reward_t: chex.Array,\n",
        "        done_t: chex.Array,\n",
        "        state_tp1: chex.Array,\n",
        "    ) -> chex.Array:\n",
        "        \"\"\"Updates the agent from the given observations.\n",
        "\n",
        "        Args:\n",
        "          action_t: action performed at time t.\n",
        "          reward_t: reward obtained after having performed action_t.\n",
        "          done_t: whether or not the episode is over after performing action_t.\n",
        "          state_tp1: state at which the environment is at time t+1.\n",
        "        Returns:\n",
        "          DQN loss obtained when updating the online network.\n",
        "        \"\"\"\n",
        "        # First, we need to add the new transition to the memory buffer\n",
        "        # Exploration bonus for Big Maze\n",
        "        self._buffer.add(self._state, action_t, reward_t, done_t, state_tp1)\n",
        "        self._state = state_tp1\n",
        "\n",
        "        # We update the agent if and only if we have enought state stored in\n",
        "        # memory.\n",
        "        if self._buffer.size >= self._min_buffer_capacity:\n",
        "            batch = self._buffer.sample_batch(self._batch_size)\n",
        "            loss, self._learner_state = self._update_fn(self._learner_state, batch)\n",
        "            return loss\n",
        "        return 0.0\n",
        "\n",
        "    def compute_q_value_from_observation(self, observation) -> chex.Array:\n",
        "        \"\"\"Compute the q value vector from a single observation\n",
        "\n",
        "        Args:\n",
        "            observation: observation (unpreprocessed) of the environment. May be obtained through `env.reset()`\n",
        "\n",
        "        Returns:\n",
        "            chex.Array: q vector of length the number of actions\n",
        "        \"\"\"\n",
        "        features = compute_features_from_observation(observation)\n",
        "        # q value: update if using other kind of agent\n",
        "        q = self.apply(self._learner_state.online_params, features)\n",
        "        return q\n"
      ]
    },
    {
      "cell_type": "code",
      "execution_count": 18,
      "metadata": {},
      "outputs": [],
      "source": [
        "def run_dqn_episode(\n",
        "    agent: DeepAgent,\n",
        "    env,\n",
        "    evaluation: bool,\n",
        "    max_steps: int = 1000,\n",
        "    renderer: bool = None,\n",
        "    time_between_frame: float = 0.1,\n",
        ") -> Tuple[float, int]:\n",
        "    \"\"\"Runs an agent on the environment `env`.\n",
        "\n",
        "    Args:\n",
        "        agent (DeepAgent): agent to run\n",
        "        env (Maze): running environment\n",
        "        evaluation (bool): eval mode. If `True`, the policy is greedy.\n",
        "        max_steps (int, optional): Number of steps of the agent. Defaults to 1000.\n",
        "        render (bool, optional): Real-time rendering of the policy run by the agent. Defaults to False.\n",
        "\n",
        "    Returns:\n",
        "        Tuple[float, int]:  final reward and  number of steps of the agent\n",
        "    \"\"\"\n",
        "    state = copy.deepcopy(env.reset())\n",
        "    agent.first_observe(state)\n",
        "    n_steps = 0\n",
        "    total_reward = 0\n",
        "\n",
        "    # Run an episode.\n",
        "    while True:\n",
        "        # Generate an action from the agent's policy and step the environment.\n",
        "        action = agent.act(compute_features_from_observation(state), evaluation)\n",
        "        next_state, reward, done = env.step(action)\n",
        "        if not evaluation:\n",
        "            agent.observe(action, reward, done, copy.deepcopy(next_state))\n",
        "        n_steps += 1\n",
        "        total_reward += reward\n",
        "\n",
        "        state = copy.deepcopy(next_state)\n",
        "        if done or n_steps > max_steps:\n",
        "            break\n",
        "\n",
        "        if renderer is not None:\n",
        "            renderer.clear()\n",
        "            renderer.draw_list(env.render())\n",
        "            renderer.draw_title(f\"TOTAL REWARD : {total_reward}\")\n",
        "            renderer.render()\n",
        "            time.sleep(time_between_frame)\n",
        "\n",
        "    return total_reward, n_steps\n"
      ]
    },
    {
      "cell_type": "code",
      "execution_count": 19,
      "metadata": {},
      "outputs": [],
      "source": [
        "def train_agent(\n",
        "    agent: DeepAgent,\n",
        "    env: FlappyBird,\n",
        "    num_episodes: int = 2000,\n",
        "    num_eval_episodes: int = 10,\n",
        "    eval_every_N: int = 100,\n",
        "    max_steps: int = 1000,\n",
        "    verbose: int = 0,\n",
        ") -> Tuple[List[int], List[float], List[int]]:\n",
        "    \"\"\"Trains an agent for a specified number of iterations\n",
        "\n",
        "    Args:\n",
        "        agent (DeepAgent): agent to run\n",
        "        env (Maze): running environment\n",
        "        num_episodes (int, optional): Number of episodes to run. Defaults to 2000.\n",
        "        num_eval_episodes (int, optional): Number of validation episodes. Defaults to 10.\n",
        "        eval_every_N (int, optional): Number of training episodes between a validation step. Defaults to 100.\n",
        "        max_steps (int, optional): maximum number of steps per episode. Defaults to 1000.\n",
        "        verbose (int, optional): Verbose level. Defaults to 0.\n",
        "            * 0: display only the validation metrics\n",
        "            * 1: display the training metrics\n",
        "            * 2: plot the value function and the visited states\n",
        "            * 3: 1 & 2\n",
        "\n",
        "    Returns:\n",
        "        Tuple[List[int], List[float], List[int]]: val episodes, val rewards and val number of steps of the agent\n",
        "    \"\"\"\n",
        "    episodes = []\n",
        "    eval_reward = 0\n",
        "    eval_rewards = []\n",
        "    eval_n_steps = []\n",
        "    train_rewards = []\n",
        "    train_n_steps = []\n",
        "    starting_time = time()\n",
        "    print(\n",
        "        \"{:^18}|{:^18}|{:^40}|{:^40}\".format(\n",
        "            \"Episode number:\",\n",
        "            \"Elapsed time (min)\",\n",
        "            f\"Average reward on {num_eval_episodes} episodes\",\n",
        "            f\"Average Steps on {num_eval_episodes} episodes\",\n",
        "        )\n",
        "    )\n",
        "    print(\n",
        "        \"------------------------------------------------------------------------------------------------------------------------\"\n",
        "    )\n",
        "    display_pbar = verbose in [1, 3]\n",
        "    display_plots = verbose in [2, 3]\n",
        "    if display_pbar:\n",
        "        pbar = trange(1, num_episodes + 1, desc=\"Training\", leave=True)\n",
        "    else:\n",
        "        pbar = range(1, num_episodes + 1)\n",
        "\n",
        "    for episode in pbar:\n",
        "        # training step\n",
        "        reward, n_step = run_dqn_episode(\n",
        "            agent, env, evaluation=False, max_steps=max_steps\n",
        "        )\n",
        "        train_rewards.append(reward)\n",
        "        train_n_steps.append(n_step)\n",
        "\n",
        "        # training metrics, nothing interesting\n",
        "        if display_pbar:\n",
        "            pbar.set_postfix(\n",
        "                {\n",
        "                    f\"Average last {eval_every_N} rewards\": np.mean(\n",
        "                        train_rewards[-100:]\n",
        "                    ),\n",
        "                    f\"Average last {eval_every_N} n_steps\": np.mean(\n",
        "                        train_n_steps[-100:]\n",
        "                    ),\n",
        "                }\n",
        "            )\n",
        "\n",
        "        # evaluation \n",
        "        if episode % eval_every_N == 0:\n",
        "            reward, n_step = np.mean(\n",
        "                np.concatenate(\n",
        "                    [\n",
        "                        [\n",
        "                            run_dqn_episode(\n",
        "                                agent, env, evaluation=True, max_steps=max_steps\n",
        "                            )\n",
        "                        ]\n",
        "                        for _ in range(num_eval_episodes)\n",
        "                    ],\n",
        "                    axis=0,\n",
        "                ),\n",
        "                axis=0,\n",
        "            )\n",
        "            print(\n",
        "                \"{:^18}|{:^18.2f}|{:^40}|{:^40}\".format(\n",
        "                    episode, (time() - starting_time) / 60, reward, n_step\n",
        "                )\n",
        "            )\n",
        "            eval_rewards.append(reward)\n",
        "            eval_n_steps.append(n_step)\n",
        "            episodes.append(episode)\n",
        "            \n",
        "            save_best_model(agent, eval_rewards[-1], eval_reward, filename=\"best_model.pkl\")\n",
        "            # display value and action maps\n",
        "            if display_plots:\n",
        "                fig, axs = plot_value_action(agent, observation)\n",
        "                plt.show()\n",
        "\n",
        "    return episodes, eval_rewards, eval_n_steps\n"
      ]
    },
    {
      "cell_type": "code",
      "execution_count": 22,
      "metadata": {},
      "outputs": [
        {
          "name": "stdout",
          "output_type": "stream",
          "text": [
            " Episode number:  |   Elapsed time   |     Average reward on 10 episodes      |      Average Steps on 10 episodes      \n",
            "------------------------------------------------------------------------------------------------------------------------\n",
            "       100        |       0.65       |                  6.5                   |                  52.3                  \n",
            "Saving best model at best_model.pkl\n"
          ]
        },
        {
          "data": {
            "image/png": "[encoded data removed]",
            "text/plain": [
              "<Figure size 2400x800 with 4 Axes>"
            ]
          },
          "metadata": {},
          "output_type": "display_data"
        },
        {
          "name": "stdout",
          "output_type": "stream",
          "text": [
            "       200        |       2.11       |                  28.1                  |                 148.6                  \n",
            "Saving best model at best_model.pkl\n"
          ]
        },
        {
          "data": {
            "image/png": "[encoded data removed]",
            "text/plain": [
              "<Figure size 2400x800 with 4 Axes>"
            ]
          },
          "metadata": {},
          "output_type": "display_data"
        },
        {
          "name": "stdout",
          "output_type": "stream",
          "text": [
            "       300        |       4.33       |                  35.6                  |                 169.9                  \n",
            "Saving best model at best_model.pkl\n"
          ]
        },
        {
          "data": {
            "image/png": "[encoded data removed]",
            "text/plain": [
              "<Figure size 2400x800 with 4 Axes>"
            ]
          },
          "metadata": {},
          "output_type": "display_data"
        },
        {
          "name": "stdout",
          "output_type": "stream",
          "text": [
            "       400        |       6.49       |                  38.2                  |                 190.1                  \n",
            "Saving best model at best_model.pkl\n"
          ]
        },
        {
          "data": {
            "image/png": "[encoded data removed]",
            "text/plain": [
              "<Figure size 2400x800 with 4 Axes>"
            ]
          },
          "metadata": {},
          "output_type": "display_data"
        }
      ],
      "source": [
        "num_episodes = 4000\n",
        "num_eval_episodes = 10\n",
        "eval_every_N = 100\n",
        "max_steps = 300\n",
        "\n",
        "deep_agent = DeepAgent(\n",
        "    env,\n",
        "    gamma=0.95,\n",
        "    eps=0.2,\n",
        "    learning_rate=1e-3,\n",
        "    buffer_capacity=5000,\n",
        "    min_buffer_capacity=64,\n",
        "    batch_size=64,\n",
        "    target_ema=0.9,\n",
        "    seed=42,\n",
        ")\n",
        "\n",
        "\n",
        "episodes, eval_rewards, eval_n_steps = train_agent(\n",
        "    deep_agent,\n",
        "    env,\n",
        "    num_episodes=num_episodes,\n",
        "    num_eval_episodes=num_eval_episodes,\n",
        "    eval_every_N=eval_every_N,\n",
        "    max_steps=max_steps,\n",
        "    verbose=2,\n",
        ")\n"
      ]
    },
    {
      "cell_type": "markdown",
      "metadata": {
        "id": "GtqXMbKKDWYB"
      },
      "source": [
        "Without rendering now, let's see the average reward we can get over 100 episodes with this agent."
      ]
    },
    {
      "cell_type": "code",
      "execution_count": 247,
      "metadata": {},
      "outputs": [
        {
          "name": "stdout",
          "output_type": "stream",
          "text": [
            "🟩🟩🟩　　　　　　　　　　　　　　　　　　　　　　　🟩🟩🟩🟩🟩🟩🟩　　　　　　　　　　　　　　🟩🟩🟩🟩🟩🟩🟩　　　　　　\n",
            "🟩🟩🟩　　　　　　　　　　　　　　　　　　　　　　　🟩🟩🟩🟩🟩🟩🟩　　　　　　　　　　　　　　🟩🟩🟩🟩🟩🟩🟩　　　　　　\n",
            "🟩🟩🟩　　　　　　　　　　　　　　　　　　　　　　　🟩🟩🟩🟩🟩🟩🟩　　　　　　　　　　　　　　🟩🟩🟩🟩🟩🟩🟩　　　　　　\n",
            "🟩🟩🟩　　　　　　　　　　　　　　　　　　　　　　　🟩🟩🟩🟩🟩🟩🟩　　　　　　　　　　　　　　🟩🟩🟩🟩🟩🟩🟩　　　　　　\n",
            "🟩🟩🟩　　　　　　　　　　　　　　　　　　　　　　　🟩🟩🟩🟩🟩🟩🟩　　　　　　　　　　　　　　🟩🟩🟩🟩🟩🟩🟩　　　　　　\n",
            "🟩🟩🟩　　　　　　　　　　　　　　　　　　　　　　　🟩🟩🟩🟩🟩🟩🟩　　　　　　　　　　　　　　🟩🟩🟩🟩🟩🟩🟩　　　　　　\n",
            "🟩🟩🟩　　　　　　　　　　　　　　　　　　　　　　　🟩🟩🟩🟩🟩🟩🟩　　　　　　　　　　　　　　🟩🟩🟩🟩🟩🟩🟩　　　　　　\n",
            "🟩🟩🟩　　　　　　　　　　　　　　　　　　　　　　　🟩🟩🟩🟩🟩🟩🟩　　　　　　　　　　　　　　🟩🟩🟩🟩🟩🟩🟩　　　　　　\n",
            "🟩🟩🟩　　　　　　　　　　　　　　　　　　　　　　　🟩🟩🟩🟩🟩🟩🟩　　　　　　　　　　　　　　🟩🟩🟩🟩🟩🟩🟩　　　　　　\n",
            "🟩🟩🟩　　　　　　　　　　　　　　　　　　　　　　　🟩🟩🟩🟩🟩🟩🟩　　　　　　　　　　　　　　🟩🟩🟩🟩🟩🟩🟩　　　　　　\n",
            "🟩🟩🟩　　　　　　　　　　　　　　　　　　　　　　　🟩🟩🟩🟩🟩🟩🟩　　　　　　　　　　　　　　🟩🟩🟩🟩🟩🟩🟩　　　　　　\n",
            "🟩🟩🟩　　　　　　　　　　　　　　　　　　　　　　　🟩🟩🟩🟩🟩🟩🟩　　　　　　　　　　　　　　🟩🟩🟩🟩🟩🟩🟩　　　　　　\n",
            "🟩🟩🟩　　　　　　　　　　　　　　　　　　　　　　　🟩🟩🟩🟩🟩🟩🟩　　　　　　　　　　　　　　🟩🟩🟩🟩🟩🟩🟩　　　　　　\n",
            "🟩🟩🟩　　　　　　　　　　　　　　　　　　　　　　　🟩🟩🟩🟩🟩🟩🟩　　　　　　　　　　　　　　🟩🟩🟩🟩🟩🟩🟩　　　　　　\n",
            "　　　　　　　　　　　　　　　　　　　　　　　　　　🟩🟩🟩🟩🟩🟩🟩　　　　　　　　　　　　　　🟩🟩🟩🟩🟩🟩🟩　　　　　　\n",
            "　　　　　　　　　　　　　　　　　　　　　　　　　　🟩🟩🟩🟩🟩🟩🟩　　　　　　　　　　　　　　🟩🟩🟩🟩🟩🟩🟩　　　　　　\n",
            "　　　　　　　　　　　　　　　　　　　　　　　　　　🟩🟩🟩🟩🟩🟩🟩　　　　　　　　　　　　　　🟩🟩🟩🟩🟩🟩🟩　　　　　　\n",
            "　　　　　　　　　　　　　　　　　　　　　　　　　　🟩🟩🟩🟩🟩🟩🟩　　　　　　　　　　　　　　🟩🟩🟩🟩🟩🟩🟩　　　　　　\n",
            "　　　　　　　　　　　　　　　　　　　　　　　　　　🟩🟩🟩🟩🟩🟩🟩　　　　　　　　　　　　　　🟩🟩🟩🟩🟩🟩🟩　　　　　　\n",
            "　　　　　　　　　　　　　　　　　　　　　　　　　　🟩🟩🟩🟩🟩🟩🟩　　　　　　　　　　　　　　🟩🟩🟩🟩🟩🟩🟩　　　　　　\n",
            "　　　　　　　　　　　　　　　　　　　　　　　　　　🟩🟩🟩🟩🟩🟩🟩　　　　　　　　　　　　　　🟩🟩🟩🟩🟩🟩🟩　　　　　　\n",
            "　　　　　　　　　　　　　　　　　　　　　　　　　　🟩🟩🟩🟩🟩🟩🟩　　　　　　　　　　　　　　🟩🟩🟩🟩🟩🟩🟩　　　　　　\n",
            "　　　　　　　　　　　　　　　　　　　　　　　　　　🟩🟩🟩🟩🟩🟩🟩　　　　　　　　　　　　　　　　　　　　　　　　　　　\n",
            "　　　　　　　　　　　　　　　　　　　　　　　　　　🟩🟩🟩🟩🟩🟩🟩　　　　　　　　　　　　　　　　　　　　　　　　　　　\n",
            "　　　　　　　　　　　　　　　　　　　　　　　　　　　　　　　　　　　　　　　　　　　　　　　　　　　　　　　　　　　　\n",
            "　　　　　　　　　　　　　　　　　　　　　　　　　　　　　　🐤　　　　　　　　　　　　　　　　　　　　　　　　　　　　　\n",
            "　　🟩🟩🟩🟩🟩🟩🟩　　　　　　　　　　　　　　　　　　　　　　　🟩🟩🟩🟩🟩🟩🟩　　　　　　　　　　　　　　　　　　　　　\n",
            "　　🟩🟩🟩🟩🟩🟩🟩　　　　　　　　　　　　　　　　　　　　　　　🟩🟩🟩🟩🟩🟩🟩　　　　　　　　　　　　　　　　　　　　　\n",
            "　　🟩🟩🟩🟩🟩🟩🟩　　　　　🟩🟩🟩🟩🟩🟩🟩　　　　　　　　　　　🟩🟩🟩🟩🟩🟩🟩　　　　　　　　　　　　　　　　　　　　　\n",
            "🟫🟫🟫🟫🟫🟫🟫🟫🟫🟫🟫🟫🟫🟫🟫🟫🟫🟫🟫🟫🟫🟫🟫🟫🟫🟫🟫🟫🟫🟫🟫🟫🟫🟫🟫🟫🟫🟫🟫🟫🟫🟫🟫🟫🟫🟫🟫🟫🟫🟫🟫🟫🟫🟫🟫🟫🟫🟫🟫🟫\n",
            "TOTAL REWARD : 58\n"
          ]
        },
        {
          "data": {
            "text/plain": [
              "(57, 243)"
            ]
          },
          "execution_count": 247,
          "metadata": {},
          "output_type": "execute_result"
        }
      ],
      "source": [
        "run_dqn_episode(\n",
        "    deep_agent, env, evaluation=True, max_steps=2000, renderer=renderer, time_between_frame=0.1\n",
        ")\n"
      ]
    },
    {
      "cell_type": "code",
      "execution_count": 7,
      "metadata": {
        "colab": {
          "base_uri": "https://localhost:8080/"
        },
        "id": "OUbF1hIHDcAN",
        "outputId": "cad9f864-4b43-4cd7-af40-4a212942cbc5"
      },
      "outputs": [
        {
          "name": "stdout",
          "output_type": "stream",
          "text": [
            "Average reward over 100 episodes: 2.51\n"
          ]
        }
      ],
      "source": [
        "# Flappy bird environment\n",
        "env = FlappyBird(\n",
        "    gravity=0.05,\n",
        "    force_push=0.1,\n",
        "    vx=0.05,\n",
        "    prob_new_bar=0.3,\n",
        "    max_height_bar=0.6,\n",
        ")\n",
        "\n",
        "# Our agent\n",
        "agent = StableAgent()\n",
        "\n",
        "N_EPISODES = 100\n",
        "\n",
        "reward = 0\n",
        "for _ in range(N_EPISODES):\n",
        "    reward += run_episode(env, agent, max_steps=1000, renderer=None)\n",
        "\n",
        "reward /= N_EPISODES\n",
        "\n",
        "print(f\"Average reward over {N_EPISODES} episodes: {reward}\")\n"
      ]
    },
    {
      "cell_type": "code",
      "execution_count": 196,
      "metadata": {},
      "outputs": [
        {
          "name": "stdout",
          "output_type": "stream",
          "text": [
            "　　　　　　　　　　　　　　　　　　　　　　　　　　　　　　　　🟩🟩🟩🟩🟩🟩🟩　　　　　　　　　　　　　　　　　　　　　\n",
            "　　　　　　　　　　　　　　　　　　　　　　　　　　　　　　　　🟩🟩🟩🟩🟩🟩🟩　　　　　　　　　　　　　　　　　　　　　\n",
            "　　　　　　　　　　　　　　　　　　　　　　　　　　　　　　　　🟩🟩🟩🟩🟩🟩🟩　　　　　　　　　　　　　　　　　　　　　\n",
            "　　　　　　　　　　　　　　　　　　　　　　　　　　　　　　　　🟩🟩🟩🟩🟩🟩🟩　　　　　　　　　　　　　　　　　　　　　\n",
            "　　　　　　　　　　　　　　　　　　　　　　　　　　　　　　　　🟩🟩🟩🟩🟩🟩🟩　　　　　　　　　　　　　　　　　　　　　\n",
            "　　　　　　　　　　　　　　　　　　　　　　　　　　　　　　　　🟩🟩🟩🟩🟩🟩🟩　　　　　　　　　　　　　　　　　　　　　\n",
            "　　　　　　　　　　　　　　　　　　　　　　　　　　　　　　　　🟩🟩🟩🟩🟩🟩🟩　　　　　　　　　　　　　　　　　　　　　\n",
            "　　　　　　　　　　　　　　　　　　　　　　　　　　　　　　　　🟩🟩🟩🟩🟩🟩🟩　　　　　　　　　　　　　　　　　　　　　\n",
            "　　　　　　　　　　　　　　　　　　　　　　　　　　　　　　　　🟩🟩🟩🟩🟩🟩🟩　　　　　　　　　　　　　　　　　　　　　\n",
            "　　　　　　　　　　　　　　　　　　　　　　　　　　　　　　🐤　🟩🟩🟩🟩🟩🟩🟩　　　　　　　　　　　　　　　　　　　　　\n",
            "　　　　　　　　　　　　　　　　　　　　　　　　　　　　　　　　🟩🟩🟩🟩🟩🟩🟩　　　　　　　　　　　　　　　　　　　　　\n",
            "　　　　　　　　　　　　　　　　　　　　　　　　　　　　　　　　🟩🟩🟩🟩🟩🟩🟩　　　　　　　　　　　　　　　　　　　　　\n",
            "　　　　　　　　　　　　　　　　　　　　　　　　　　　　　　　　🟩🟩🟩🟩🟩🟩🟩　　　　　　　　　　　　　　　　　　　　　\n",
            "　　　　　　　　　　　　　　　　　　　　　　　　　　　　　　　　🟩🟩🟩🟩🟩🟩🟩　　　　　　　　　　　　　　　　　　　　　\n",
            "　　　　　　　　　　　　　　　　　　　　　　　　　　　　　　　　🟩🟩🟩🟩🟩🟩🟩　　　　　　　　　　　　　　　　　　　　　\n",
            "　　　　　　　　　　　　　　　　　　　　　　　　　　　　　　　　🟩🟩🟩🟩🟩🟩🟩　　　　　　　　　　　　　　　　　　　　　\n",
            "　　　　　　　　　　　　　　　　　　　　　　　　　　　　　　　　　　　　　　　　　　　　　　　　　　　　　　　　　　　　\n",
            "　　　　　　　　　　　　　　　　　　　　　　　　　　　　　　　　　　　　　　　　　　　　　　　　　　　　　　　　　　　　\n",
            "　　　　　　　　　　　　　　　　　　　　　　　　　　　　　　　　　　　　　　　　　　　　　　　　　　　　　　　　　　　　\n",
            "　　　　　　　　　　　　　　　　　　　　　　　　　　　　　　　　　　　　　　　　　　　　　　　　　　　　　　　　　　　　\n",
            "　　　　　　　　　　　　　　　　　　　　　　　　　　　　　　　　　　　　　　　　　　　　　　　　　　　　　　　　　　　　\n",
            "　　　　　　　　　　　　　　　　　　　　　　　　　　　　　　　　　　　　　　　　　　　　　　　　　　　　　　　　　　　　\n",
            "　　　　　　　　　　　　　　　　　　　　　　　　　　　　　　　　　　　　　　　　　　　　　　　　　　　　　　　　　　　　\n",
            "　　　　　　　　　　　　　　　　　　　　　　　　　　　　　　　　　　　　　　　　　　　　　　　　　　　　　　　　　　　　\n",
            "　　　　　　　　　　　　　　　　　　　　　　　　　　　　　　　　　　　　　　　　　　　　　　　　　　　　　　　　　　　　\n",
            "　　　　　　　　　　　　　　　　　　　　　　　　　　　　　　　　　　　　　　　　　　　　　　　　　　🟩🟩🟩🟩🟩🟩🟩　　　\n",
            "　　　　　　　　　　　　　　　　　　　　　　　　　　　　　　　　　　　　　　　　　　　　　　　　　　🟩🟩🟩🟩🟩🟩🟩　　　\n",
            "　　　　　　　　　　　　　　　　　　　　　　　　　　　　　　　　　　　　　　　　　　　　　　　　　　🟩🟩🟩🟩🟩🟩🟩　　　\n",
            "　　　　　　　　　　　　　　　　　　　　　　　　　　　　　　　　　　　　　　　　　　　　　　　　　　🟩🟩🟩🟩🟩🟩🟩　　　\n",
            "🟫🟫🟫🟫🟫🟫🟫🟫🟫🟫🟫🟫🟫🟫🟫🟫🟫🟫🟫🟫🟫🟫🟫🟫🟫🟫🟫🟫🟫🟫🟫🟫🟫🟫🟫🟫🟫🟫🟫🟫🟫🟫🟫🟫🟫🟫🟫🟫🟫🟫🟫🟫🟫🟫🟫🟫🟫🟫🟫🟫\n",
            "TOTAL REWARD : 0\n"
          ]
        },
        {
          "data": {
            "text/plain": [
              "(-1, 12)"
            ]
          },
          "execution_count": 196,
          "metadata": {},
          "output_type": "execute_result"
        }
      ],
      "source": [
        "run_dqn_episode(\n",
        "    deep_agent,\n",
        "    env,\n",
        "    evaluation=True,\n",
        "    max_steps=1000,\n",
        "    renderer=renderer,\n",
        "    time_between_frame=0.1,\n",
        ")\n"
      ]
    },
    {
      "cell_type": "markdown",
      "metadata": {
        "id": "NX9TgKx_EirA"
      },
      "source": [
        "An now, you need to do much better."
      ]
    },
    {
      "cell_type": "markdown",
      "metadata": {
        "id": "-hyzsUZLnpHT"
      },
      "source": [
        "## Let's get to work !\n",
        "\n",
        "Design and train an agent that performs the best possible score on Flappy bird. You can use any method learned in this class. Here are the constraints:\n",
        "- if you chose a Deep learning algorithm, you must use jax and Haiku. Pytorch is not allowed for this project.\n",
        "- your agent should converge in less than an hour. To make sure of that, we will run your code and use whatever checkpoint you have dumped in the given time.\n",
        "- your agent must maximize the reward obtained over 100 episodes with a maximal number of 1000 steps per episode.\n",
        "\n",
        "Do not forget to write **clear and commented code**, you will also be evaluated on that.\n",
        "\n",
        "On top of that, you are asked to plot and analyse the relevant curves showing the evolution of your training loop."
      ]
    },
    {
      "cell_type": "code",
      "execution_count": 141,
      "metadata": {},
      "outputs": [
        {
          "data": {
            "text/plain": [
              "166.66666666666666"
            ]
          },
          "execution_count": 141,
          "metadata": {},
          "output_type": "execute_result"
        }
      ],
      "source": [
        "1000 / 6\n"
      ]
    },
    {
      "cell_type": "markdown",
      "metadata": {
        "id": "mQ5dLRk_0YeP"
      },
      "source": [
        "### Agent's API\n",
        "\n",
        "Your agent should implement a method, `sample_action`, which takes two arguments as input, the observed state and wether or not it is in evaluation mode, and pick the action to perform. Appart from that, you can add any other method you want to your model."
      ]
    },
    {
      "cell_type": "code",
      "execution_count": null,
      "metadata": {
        "id": "6BvoIFd6nrEr"
      },
      "outputs": [],
      "source": [
        "class MyAgent:\n",
        "  \"\"\"Your agent to beat Flappy bird.\"\"\"\n",
        "\n",
        "  def __init__(self, ...):\n",
        "  # Put whatever you want here\n",
        "\n",
        "  def sample_action(self,\n",
        "                    observation: FlappyObs,\n",
        "                    evaluation: bool,\n",
        "                    ) -> int:\n",
        "    \"\"\"Pick the next action to perform\n",
        "\n",
        "    Args:\n",
        "      observation: state of the flappy bird environment.,\n",
        "      evaluation: True if we are in evaluation mode, False if we are training.\n",
        "    \"\"\"\n",
        "\n",
        "    # Your code here !\n",
        "    ...\n",
        "\n",
        "    return action"
      ]
    },
    {
      "cell_type": "markdown",
      "metadata": {
        "id": "-gHfxq9_E-zT"
      },
      "source": [
        "## Environment\n",
        "\n",
        "You must use the following flappy bird environment from the deep_rl package.\n"
      ]
    },
    {
      "cell_type": "code",
      "execution_count": null,
      "metadata": {
        "id": "XEt5Y82yPw0q"
      },
      "outputs": [],
      "source": [
        "from deep_rl.project_values import PROJECT_FLAPPY_BIRD_ENV\n"
      ]
    },
    {
      "cell_type": "markdown",
      "metadata": {
        "id": "MnY-RTgwELdS"
      },
      "source": [
        "### Training loop\n",
        "\n",
        "You can use the following training loop to train your agent. Do not hesitate to play with the different parameters or even modify the code if you think you have a better option."
      ]
    },
    {
      "cell_type": "code",
      "execution_count": 6,
      "metadata": {
        "id": "qdoO0UY92s2o"
      },
      "outputs": [],
      "source": [
        "from typing import List, Tuple\n",
        "from dataclasses import dataclass\n",
        "import time\n",
        "\n",
        "# Your training loop should perform in less than 1h.\n",
        "MAX_TIME_TRAINING = 3600\n",
        "\n",
        "@dataclass\n",
        "class EpisodeTrainingStatus:\n",
        "  episode_number: int\n",
        "  reward: float\n",
        "  training_time: float\n",
        "\n",
        "def run_episode_no_rendering(env,\n",
        "                             agent,\n",
        "                             evaluation: bool,\n",
        "                             max_steps: int,\n",
        "                             ) -> float:\n",
        "  \"\"\"Runs a single episode.\n",
        "\n",
        "  Args:\n",
        "    env: environment to consider.\n",
        "    agent: agent to run.\n",
        "    evaluation: if False, will train the agent.\n",
        "    max_steps: number of steps after wich the evaluation should be stoppped\n",
        "      no matter what.\n",
        "  Returns:\n",
        "    The total reward accumulated over the episode.\n",
        "\t\"\"\"\n",
        "\n",
        "\tobservation = env.reset()\n",
        "\ttot_reward = 0\n",
        "\n",
        "\tfor _ in range(max_steps):\n",
        "\n",
        "\t\taction = agent.sample_action(observation, evaluation)\n",
        "\t\tobservation, reward, end_game = env.step(action)\n",
        "\t\ttot_reward += reward\n",
        "\n",
        "\t\tif end_game:\n",
        "\t\t\tbreak\n",
        "\n",
        "\treturn tot_reward\n",
        "\n",
        "def train_agent(env,\n",
        "                agent,\n",
        "                num_episodes: int,\n",
        "                num_eval_episodes: int,\n",
        "                eval_every_N: int,\n",
        "                max_steps_episode: int,\n",
        "                max_time_training: float = MAX_TIME_TRAINING,\n",
        "                ) -> List[EpisodeTrainingStatus]:\n",
        "  \"\"\"Train your agent on the given environment.\n",
        "\n",
        "  Args:\n",
        "    env: environment to consider.\n",
        "    agent: agent to train.\n",
        "    num_episodes: number of episode to run for training.\n",
        "    eval_every_N: frequency at which the agent is evaluated.\n",
        "    max_steps_episode: maximal number of step per episode.\n",
        "    max_time_training: maximal duration of the training loop (in seconds).\n",
        "  Returns:\n",
        "    The total reward accumulated over the episode.\n",
        "\t\"\"\"\n",
        "\n",
        "  all_status = []\n",
        "  print(f\"Episode number:\\t| Average reward on {num_eval_episodes} eval episodes\")\n",
        "  print(\"------------------------------------------------------\")\n",
        "\n",
        "  start_time = time.time()\n",
        "\n",
        "  for episode in range(num_episodes):\n",
        "\n",
        "    run_episode_no_rendering(env,\n",
        "                             agent,\n",
        "                             evaluation=False,\n",
        "                             max_steps=max_steps_episode)\n",
        "\n",
        "    if episode % eval_every_N == 0:\n",
        "      reward=0\n",
        "      d_time = time.time() - start_time\n",
        "      for _ in range(num_eval_episodes):\n",
        "        reward += run_episode(env,\n",
        "                              agent,\n",
        "                              evaluation=True,\n",
        "                              max_steps=max_steps_episode)\n",
        "      reward /= num_eval_episodes\n",
        "      print(f\"\\t{episode}\\t|\\t{reward}\")\n",
        "      all_status.append(EpisodeTrainingStatus(episode_number=episode,\n",
        "                                              reward=reward,\n",
        "                                              training_time=d_time))\n",
        "\n",
        "      if d_time > max_time_training:\n",
        "        break\n",
        "\n",
        "  return all_status"
      ]
    },
    {
      "cell_type": "markdown",
      "metadata": {
        "id": "sp6QTqEPENaW"
      },
      "source": [
        "### Visualisation\n",
        "\n",
        "You can use the following code to visualize a single run made by your agent. This can help you for debugging."
      ]
    },
    {
      "cell_type": "code",
      "execution_count": null,
      "metadata": {
        "id": "rBLse6KIEPZT"
      },
      "outputs": [],
      "source": [
        "from IPython.display import clear_output\n",
        "from deep_rl.project_values import PROJECT_FLAPPY_BIRD_ENV\n",
        "from deep_rl.terminal_renderer import BashRenderer\n",
        "from deep_rl.episode_runner import run_episode\n",
        "\n",
        "# Your agent\n",
        "agent = ...\n",
        "\n",
        "# We are going to render the environment !\n",
        "ROWS = 30\n",
        "COLS = 60\n",
        "renderer = BashRenderer(ROWS, COLS, clear_fn=lambda: clear_output(wait=True))\n",
        "\n",
        "\n",
        "# We run a single episode, with rendering, over a maximum of 1000 steps\n",
        "run_episode(\n",
        "    PROJECT_FLAPPY_BIRD_ENV,\n",
        "    agent,\n",
        "    max_steps=1000,\n",
        "    renderer=renderer,\n",
        "    time_between_frame=0.1,\n",
        ")\n"
      ]
    }
  ],
  "metadata": {
    "colab": {
      "provenance": []
    },
    "kernelspec": {
      "display_name": "Python 3",
      "name": "python3"
    },
    "language_info": {
      "codemirror_mode": {
        "name": "ipython",
        "version": 3
      },
      "file_extension": ".py",
      "mimetype": "text/x-python",
      "name": "python",
      "nbconvert_exporter": "python",
      "pygments_lexer": "ipython3",
      "version": "3.9.8"
    }
  },
  "nbformat": 4,
  "nbformat_minor": 0
}
